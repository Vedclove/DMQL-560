{
 "cells": [
  {
   "cell_type": "code",
   "execution_count": 1,
   "id": "cc7148be",
   "metadata": {},
   "outputs": [
    {
     "name": "stderr",
     "output_type": "stream",
     "text": [
      "/var/folders/wn/f9dqwf512q52fzs0t0yk_4jw0000gn/T/ipykernel_32912/3761786132.py:20: UserWarning: pandas only supports SQLAlchemy connectable (engine/connection) or database string URI or sqlite3 DBAPI2 connection. Other DBAPI2 objects are not tested. Please consider using SQLAlchemy.\n",
      "  df = pd.read_sql_query(f\"SELECT * FROM {table};\", conn)\n"
     ]
    },
    {
     "name": "stdout",
     "output_type": "stream",
     "text": [
      "Exported: customers.csv\n",
      "Exported: employees.csv\n",
      "Exported: services.csv\n",
      "Exported: accounts.csv\n",
      "Exported: loans.csv\n",
      "Exported: interactions.csv\n",
      "Exported: appointments.csv\n",
      "Exported: complaints.csv\n"
     ]
    }
   ],
   "source": [
    "import pandas as pd\n",
    "import psycopg2\n",
    "\n",
    "conn = psycopg2.connect(\n",
    "    dbname=\"neondb\",\n",
    "    user=\"neondb_owner\",\n",
    "    password=\"npg_Yx3iRdyceB4h\",\n",
    "    host=\"ep-nameless-snow-a48hdbkf.us-east-1.aws.neon.tech\",\n",
    "    sslmode=\"require\"\n",
    ")\n",
    "\n",
    "# List your tables\n",
    "tables = [\n",
    "    \"customers\", \"employees\", \"services\", \"accounts\",\n",
    "    \"loans\", \"interactions\", \"appointments\", \"complaints\"\n",
    "]\n",
    "\n",
    "# Loop and export\n",
    "for table in tables:\n",
    "    df = pd.read_sql_query(f\"SELECT * FROM {table};\", conn)\n",
    "    df.to_csv(f\"{table}.csv\", index=False)\n",
    "    print(f\"Exported: {table}.csv\")\n",
    "\n",
    "conn.close()"
   ]
  },
  {
   "cell_type": "code",
   "execution_count": 5,
   "id": "9a7ed60d",
   "metadata": {},
   "outputs": [],
   "source": [
    "df = pd.read_csv(\"accounts.csv\")"
   ]
  },
  {
   "cell_type": "code",
   "execution_count": 6,
   "id": "62c5503f",
   "metadata": {},
   "outputs": [
    {
     "data": {
      "text/html": [
       "<div>\n",
       "<style scoped>\n",
       "    .dataframe tbody tr th:only-of-type {\n",
       "        vertical-align: middle;\n",
       "    }\n",
       "\n",
       "    .dataframe tbody tr th {\n",
       "        vertical-align: top;\n",
       "    }\n",
       "\n",
       "    .dataframe thead th {\n",
       "        text-align: right;\n",
       "    }\n",
       "</style>\n",
       "<table border=\"1\" class=\"dataframe\">\n",
       "  <thead>\n",
       "    <tr style=\"text-align: right;\">\n",
       "      <th></th>\n",
       "      <th>1</th>\n",
       "      <th>43</th>\n",
       "      <th>Loan</th>\n",
       "      <th>35120.83</th>\n",
       "      <th>Suspended</th>\n",
       "      <th>2020-09-16 16:00:52.177966</th>\n",
       "    </tr>\n",
       "  </thead>\n",
       "  <tbody>\n",
       "    <tr>\n",
       "      <th>0</th>\n",
       "      <td>2</td>\n",
       "      <td>42</td>\n",
       "      <td>Savings</td>\n",
       "      <td>30495.64</td>\n",
       "      <td>Active</td>\n",
       "      <td>2023-03-10 14:56:26.065401</td>\n",
       "    </tr>\n",
       "    <tr>\n",
       "      <th>1</th>\n",
       "      <td>3</td>\n",
       "      <td>35</td>\n",
       "      <td>Checking</td>\n",
       "      <td>8253.78</td>\n",
       "      <td>Closed</td>\n",
       "      <td>2023-01-15 01:20:42.643121</td>\n",
       "    </tr>\n",
       "    <tr>\n",
       "      <th>2</th>\n",
       "      <td>4</td>\n",
       "      <td>18</td>\n",
       "      <td>Checking</td>\n",
       "      <td>34262.25</td>\n",
       "      <td>Active</td>\n",
       "      <td>2021-04-03 15:16:52.185776</td>\n",
       "    </tr>\n",
       "    <tr>\n",
       "      <th>3</th>\n",
       "      <td>5</td>\n",
       "      <td>15</td>\n",
       "      <td>Savings</td>\n",
       "      <td>40271.79</td>\n",
       "      <td>Closed</td>\n",
       "      <td>2023-06-21 01:35:42.465687</td>\n",
       "    </tr>\n",
       "    <tr>\n",
       "      <th>4</th>\n",
       "      <td>6</td>\n",
       "      <td>18</td>\n",
       "      <td>Savings</td>\n",
       "      <td>10628.04</td>\n",
       "      <td>Suspended</td>\n",
       "      <td>2022-10-01 12:35:46.959628</td>\n",
       "    </tr>\n",
       "  </tbody>\n",
       "</table>\n",
       "</div>"
      ],
      "text/plain": [
       "   1  43      Loan  35120.83  Suspended  2020-09-16 16:00:52.177966\n",
       "0  2  42   Savings  30495.64     Active  2023-03-10 14:56:26.065401\n",
       "1  3  35  Checking   8253.78     Closed  2023-01-15 01:20:42.643121\n",
       "2  4  18  Checking  34262.25     Active  2021-04-03 15:16:52.185776\n",
       "3  5  15   Savings  40271.79     Closed  2023-06-21 01:35:42.465687\n",
       "4  6  18   Savings  10628.04  Suspended  2022-10-01 12:35:46.959628"
      ]
     },
     "execution_count": 6,
     "metadata": {},
     "output_type": "execute_result"
    }
   ],
   "source": [
    "df.head()"
   ]
  },
  {
   "cell_type": "code",
   "execution_count": 4,
   "id": "3675beaa",
   "metadata": {},
   "outputs": [
    {
     "name": "stdout",
     "output_type": "stream",
     "text": [
      "Headers removed: customers.csv\n",
      "Headers removed: employees.csv\n",
      "Headers removed: services.csv\n",
      "Headers removed: accounts.csv\n",
      "Headers removed: loans.csv\n",
      "Headers removed: interactions.csv\n",
      "Headers removed: appointments.csv\n",
      "Headers removed: complaints.csv\n"
     ]
    }
   ],
   "source": [
    "for table in tables:\n",
    "    df = pd.read_csv(f\"{table}.csv\", header=0)  # Read the CSV with headers\n",
    "    df.to_csv(f\"{table}.csv\", index=False, header=False)  # Write back without headers\n",
    "    print(f\"Headers removed: {table}.csv\")"
   ]
  }
 ],
 "metadata": {
  "kernelspec": {
   "display_name": "dmql",
   "language": "python",
   "name": "python3"
  },
  "language_info": {
   "codemirror_mode": {
    "name": "ipython",
    "version": 3
   },
   "file_extension": ".py",
   "mimetype": "text/x-python",
   "name": "python",
   "nbconvert_exporter": "python",
   "pygments_lexer": "ipython3",
   "version": "3.11.11"
  }
 },
 "nbformat": 4,
 "nbformat_minor": 5
}
